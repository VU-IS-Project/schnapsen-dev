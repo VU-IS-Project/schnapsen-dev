{
 "cells": [
  {
   "cell_type": "code",
   "execution_count": 2,
   "metadata": {},
   "outputs": [],
   "source": [
    "from random import Random\n",
    "from pathlib import Path\n",
    "from schnapsen.bots import RdeepBot\n",
    "from schnapsen.game import Bot, SchnapsenGamePlayEngine\n",
    "from schnapsen.bots.ml_bot import MLDataBot, MLPlayingBot, train_ML_model"
   ]
  },
  {
   "cell_type": "code",
   "execution_count": 3,
   "metadata": {},
   "outputs": [
    {
     "name": "stdout",
     "output_type": "stream",
     "text": [
      "Progress: 500/10000\n",
      "Progress: 1000/10000\n",
      "Progress: 1500/10000\n",
      "Progress: 2000/10000\n",
      "Progress: 2500/10000\n",
      "Progress: 3000/10000\n",
      "Progress: 3500/10000\n",
      "Progress: 4000/10000\n",
      "Progress: 4500/10000\n",
      "Progress: 5000/10000\n",
      "Progress: 5500/10000\n"
     ]
    }
   ],
   "source": [
    "# define replay memory database creation parameters\n",
    "num_of_games: int = 10000\n",
    "replay_memory_dir: str = 'ML_replay_memories'\n",
    "replay_memory_filename: str = 'random_random_10k_games.txt'\n",
    "replay_memory_location = Path(replay_memory_dir) / replay_memory_filename\n",
    "\n",
    "bot_1_behaviour: Bot = RdeepBot(num_samples=32, depth=16, rand=Random(420420))\n",
    "bot_2_behaviour: Bot = RdeepBot(num_samples=32, depth=16, rand=Random(696969))\n",
    "delete_existing_older_dataset = False\n",
    "\n",
    "# check if needed to delete any older versions of the dataset\n",
    "if delete_existing_older_dataset and replay_memory_location.exists():\n",
    "    print(f\"An existing dataset was found at location '{replay_memory_location}', which will be deleted as selected.\")\n",
    "    replay_memory_location.unlink()\n",
    "\n",
    "# in any case make sure the directory exists\n",
    "replay_memory_location.parent.mkdir(parents=True, exist_ok=True)\n",
    "\n",
    "# create new replay memory dataset, according to the behaviour of the provided bots and the provided random seed\n",
    "engine = SchnapsenGamePlayEngine()\n",
    "replay_memory_recording_bot_1 = MLDataBot(bot_1_behaviour, replay_memory_location=replay_memory_location)\n",
    "replay_memory_recording_bot_2 = MLDataBot(bot_2_behaviour, replay_memory_location=replay_memory_location)\n",
    "\n",
    "for i in range(1, num_of_games + 1):\n",
    "    if i % 500 == 0:\n",
    "        print(f\"Progress: {i}/{num_of_games}\")\n",
    "    engine.play_game(replay_memory_recording_bot_1, replay_memory_recording_bot_2, Random(i))\n",
    "\n",
    "print(f\"Replay memory dataset recorder for {num_of_games} games.\\nDataset is stored at: {replay_memory_location}\")"
   ]
  },
  {
   "cell_type": "code",
   "execution_count": null,
   "metadata": {},
   "outputs": [],
   "source": [
    "replay_memory_filename: str = 'random_random_10k_games.txt'\n",
    "replay_memories_directory: str = 'ML_replay_memories'\n",
    "\n",
    "# Whether to train a complicated Neural Network model or a simple one.\n",
    "# Tips: a neural network usually requires bigger datasets to be trained on, and to play with the parameters of the model.\n",
    "# Feel free to play with the hyperparameters of the model in file 'ml_bot.py', function 'train_ML_model',\n",
    "# under the code of body of the if statement 'if use_neural_network:'\n",
    "replay_memory_location = Path(replay_memories_directory) / replay_memory_filename\n",
    "model_name: str = 'simple_model'\n",
    "model_dir: str = \"ML_models\"\n",
    "model_location = Path(model_dir) / model_name\n",
    "overwrite: bool = False\n",
    "\n",
    "if overwrite and model_location.exists():\n",
    "    print(f\"Model at {model_location} exists already and will be overwritten as selected.\")\n",
    "    model_location.unlink()\n",
    "\n",
    "train_ML_model(replay_memory_location=replay_memory_location, model_location=model_location,\n",
    "                model_class='LR')"
   ]
  }
 ],
 "metadata": {
  "kernelspec": {
   "display_name": "vu-intro",
   "language": "python",
   "name": "python3"
  },
  "language_info": {
   "codemirror_mode": {
    "name": "ipython",
    "version": 3
   },
   "file_extension": ".py",
   "mimetype": "text/x-python",
   "name": "python",
   "nbconvert_exporter": "python",
   "pygments_lexer": "ipython3",
   "version": "3.8.13"
  },
  "orig_nbformat": 4,
  "vscode": {
   "interpreter": {
    "hash": "b61245ef155c01db675eb0381bf65f0e4898414381b0ab05d464793d431b2def"
   }
  }
 },
 "nbformat": 4,
 "nbformat_minor": 2
}
