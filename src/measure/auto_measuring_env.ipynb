{
 "cells": [
  {
   "attachments": {},
   "cell_type": "markdown",
   "metadata": {},
   "source": [
    "# Automatic Measuring Environment"
   ]
  },
  {
   "cell_type": "code",
   "execution_count": 9,
   "metadata": {},
   "outputs": [],
   "source": [
    "import matplotlib.pyplot as plt\n",
    "from typing import List, Tuple, Dict\n",
    "from random import Random\n",
    "from pathlib import Path\n",
    "\n",
    "from schnapsen.bots import RandBot, RdeepBot, MLPlayingBot\n",
    "from schnapsen.game import Bot, SchnapsenGamePlayEngine"
   ]
  },
  {
   "cell_type": "code",
   "execution_count": 10,
   "metadata": {},
   "outputs": [],
   "source": [
    "def play_tournament(bots: List[Bot], num_games: int = 100) -> Dict[Bot, int]:\n",
    "    \"\"\"\n",
    "    Plays a tournament between the given bots\n",
    "    :param bots: The bots to play against each other \n",
    "    :param num_games: The number of games to play\n",
    "    :return: A dictionary mapping each bot to the number of wins\n",
    "    \"\"\"\n",
    "    engine = SchnapsenGamePlayEngine()\n",
    "    wins: Dict[Bot, int] = {}\n",
    "    for bot1 in bots:\n",
    "        for bot2 in bots:\n",
    "            if bot1 == bot2:\n",
    "                continue\n",
    "            for n in range(num_games):\n",
    "                if n % 2 == 0:\n",
    "                    bot1, bot2 = bot2, bot1\n",
    "                winner_id, _, _ = engine.play_game(bot1, bot2, Random(n+1))\n",
    "                if winner_id == bot1:\n",
    "                    wins[bot1] = wins.get(bot1, 0) + 1\n",
    "                else:\n",
    "                    wins[bot2] = wins.get(bot2, 0) + 1\n",
    "    return wins\n",
    "\n",
    "\n",
    "def plot_tournament_results(wins: Dict[Bot, int]) -> None:\n",
    "    \"\"\"\n",
    "    Plots the results of a tournament\n",
    "    :param wins: A dictionary mapping each bot to the number of wins\n",
    "    \"\"\"\n",
    "    bot_names = [str(bot) for bot in wins.keys()]\n",
    "    bot_wins = [wins[bot] for bot in wins.keys()]\n",
    "    x = range(len(bot_names))\n",
    "    plt.bar(x, bot_wins)\n",
    "    plt.xticks(x, bot_names)\n",
    "    plt.show()\n"
   ]
  },
  {
   "attachments": {},
   "cell_type": "markdown",
   "metadata": {},
   "source": [
    "Testing variations of the RdeepBot:"
   ]
  },
  {
   "cell_type": "code",
   "execution_count": 12,
   "metadata": {},
   "outputs": [
    {
     "data": {
      "image/png": "[encoded data removed]",
      "text/plain": [
       "<Figure size 640x480 with 1 Axes>"
      ]
     },
     "metadata": {},
     "output_type": "display_data"
    }
   ],
   "source": [
    "bots: List[Bot] = [\n",
    "    MLPlayingBot(model_location=Path(\"../models/nnmodelv5\")),\n",
    "    RdeepBot(num_samples=4, depth=2, rand=Random(3547547535)),\n",
    "    RdeepBot(num_samples=32, depth=16, rand=Random(3547547535)),\n",
    "]\n",
    "\n",
    "results = play_tournament(bots, num_games=100)\n",
    "\n",
    "plot_tournament_results(results)"
   ]
  }
 ],
 "metadata": {
  "kernelspec": {
   "display_name": "vu-intro",
   "language": "python",
   "name": "python3"
  },
  "language_info": {
   "codemirror_mode": {
    "name": "ipython",
    "version": 3
   },
   "file_extension": ".py",
   "mimetype": "text/x-python",
   "name": "python",
   "nbconvert_exporter": "python",
   "pygments_lexer": "ipython3",
   "version": "3.8.13"
  },
  "orig_nbformat": 4,
  "vscode": {
   "interpreter": {
    "hash": "b61245ef155c01db675eb0381bf65f0e4898414381b0ab05d464793d431b2def"
   }
  }
 },
 "nbformat": 4,
 "nbformat_minor": 2
}
